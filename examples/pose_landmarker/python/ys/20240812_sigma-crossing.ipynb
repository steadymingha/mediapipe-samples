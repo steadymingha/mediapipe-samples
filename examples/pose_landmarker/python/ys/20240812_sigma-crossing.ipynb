{
 "cells": [
  {
   "cell_type": "markdown",
   "metadata": {},
   "source": [
    "## 1. Setup"
   ]
  },
  {
   "cell_type": "code",
   "execution_count": 162,
   "metadata": {},
   "outputs": [],
   "source": [
    "import os\n",
    "import cv2\n",
    "import numpy as np\n",
    "import seaborn as sns\n",
    "from PIL import Image\n",
    "from glob import glob\n",
    "import matplotlib.pyplot as plt\n",
    "from collections import defaultdict"
   ]
  },
  {
   "cell_type": "markdown",
   "metadata": {},
   "source": [
    "## 2. Src"
   ]
  },
  {
   "cell_type": "code",
   "execution_count": 246,
   "metadata": {},
   "outputs": [],
   "source": [
    "COCO_KEYPOINT_NAMES = [\n",
    "    'nose', 'left_eye', 'right_eye', 'left_ear', 'right_ear',\n",
    "    'left_shoulder', 'right_shoulder', 'left_elbow', 'right_elbow',\n",
    "    'left_wrist', 'right_wrist', 'left_hip', 'right_hip',\n",
    "    'left_knee', 'right_knee', 'left_ankle', 'right_ankle'\n",
    "]"
   ]
  },
  {
   "cell_type": "code",
   "execution_count": 247,
   "metadata": {},
   "outputs": [],
   "source": [
    "def draw_keypoints(kps):\n",
    "    min_vals = kps.min(axis=0)\n",
    "    max_vals = kps.max(axis=0)\n",
    "    length = max(max_vals - min_vals)\n",
    "    \n",
    "    for i, kp in enumerate(kps):\n",
    "        x, y = kp[0], kp[1]\n",
    "        y = max_vals[1] - y + min_vals[1]\n",
    "        plt.scatter(x, y, c='r')\n",
    "        plt.text(x, y, str(i), fontsize=12, color='black')\n",
    "    \n",
    "    plt.xlim(min_vals[0], min_vals[0] + length)\n",
    "    plt.ylim(min_vals[1], min_vals[1] + length)\n",
    "\n",
    "\n",
    "class Keypoints:    \n",
    "    def __init__(self, keypoints):\n",
    "        self.keypoints = keypoints # (17 x 3)\n",
    "        self.names = COCO_KEYPOINT_NAMES.copy()\n",
    "        \n",
    "        self.generate_synthetic_keypoints()\n",
    "        self.normalized_keypoints, self.center_of_mess, self.max_length = self.normalize()\n",
    "    \n",
    "\n",
    "    def generate_synthetic_keypoints(self):\n",
    "        get_center = lambda key1, key2: (self.get(key1, normalized=False) + self.get(key2, normalized=False)) / 2\n",
    "        \n",
    "        synthetic_keypoints, synthetic_names = [], []\n",
    "        for name in ['eye', 'ear', 'shoulder', 'elbow', 'wrist', 'hip', 'knee', 'ankle']:\n",
    "            p = get_center(f'left_{name}', f'right_{name}')\n",
    "            synthetic_keypoints.append(p)\n",
    "            synthetic_names.append(name)\n",
    "        \n",
    "        self.keypoints = np.vstack([self.keypoints, np.array(synthetic_keypoints)])\n",
    "        self.names += synthetic_names\n",
    "\n",
    "\n",
    "    def normalize(self, threshold=0.5):\n",
    "        keypoints = self.keypoints.copy()\n",
    "        \n",
    "        # translation\n",
    "        is_valid = keypoints[:, 2] > threshold\n",
    "        is_valid[1:5] = False # ignore face keypoints except nose\n",
    "        is_valid[17:] = False # ignore synthetic keypoints\n",
    "        is_valid[:] = True if is_valid.sum() < 5 else is_valid # if not enough keypoints, use all\n",
    "        \n",
    "        center_of_mass = keypoints[is_valid, :2].mean(axis=0, keepdims=True)\n",
    "        keypoints[:, :2] -= center_of_mass\n",
    "\n",
    "        # scaling\n",
    "        max_length = np.linalg.norm(keypoints[:17], axis=1).max()\n",
    "        keypoints[:, :2] /= max_length\n",
    "        return keypoints, center_of_mass, max_length\n",
    "\n",
    "\n",
    "    def get(self, key, normalized=True):\n",
    "        key = self.names.index(key) if isinstance(key, str) else key\n",
    "        return self.normalized_keypoints[key] if normalized else self.keypoints[key] \n",
    "\n",
    "\n",
    "    def vertical_displacement(self, key1, key2):\n",
    "        return self.get(key2)[1] - self.get(key1)[1]\n",
    "\n",
    "    def horizontal_displacement(self, key1, key2):\n",
    "        return self.get(key2)[0] - self.get(key1)[0]\n",
    "\n",
    "    def angle(self, key1, key2, key3):\n",
    "        p1, p2, p3 = self.get(key1), self.get(key2), self.get(key3)\n",
    "        v1, v2 = p1 - p2, p3 - p2\n",
    "        costheta = np.dot(v1, v2) / (np.linalg.norm(v1) * np.linalg.norm(v2))\n",
    "        costheta = np.clip(costheta, -1, 1)\n",
    "        theta = np.arccos(costheta)\n",
    "        return theta"
   ]
  },
  {
   "cell_type": "code",
   "execution_count": 259,
   "metadata": {},
   "outputs": [],
   "source": [
    "class FeatureExtractor:\n",
    "    def __init__(self):\n",
    "        self.features = defaultdict(list)\n",
    "\n",
    "    def get(self, key):\n",
    "        return self.features[key]\n",
    "\n",
    "    def diff(self, key):\n",
    "        if len(self.features[key]) < 2:\n",
    "            return 0\n",
    "        return self.features[key][-1] - self.features[key][-2]\n",
    "    \n",
    "    def smooth(self, key, window_size=5):\n",
    "        self.features[key][-1] = np.mean(self.features[key][-window_size:])\n",
    "\n",
    "    def stat(self, key):\n",
    "        return np.mean(self.features[key]), np.std(self.features[key])\n",
    "\n",
    "\n",
    "    def update(self, keypoints: Keypoints, smoothen=True):\n",
    "        self.features['center_of_mass_x'].append(keypoints.center_of_mess[0][0])\n",
    "        self.features['center_of_mass_y'].append(keypoints.center_of_mess[0][1])\n",
    "        self.features['shoulder_to_ankle_height'].append(keypoints.vertical_displacement('shoulder', 'ankle'))\n",
    "        self.features['left_wrist_to_left_ankle_height'].append(keypoints.vertical_displacement('left_wrist', 'left_ankle'))\n",
    "        self.features['right_wrist_to_right_ankle_height'].append(keypoints.vertical_displacement('right_wrist', 'right_ankle'))\n",
    "\n",
    "        self.features['left_elbow_angle'].append(keypoints.angle('left_shoulder', 'left_elbow', 'left_wrist'))\n",
    "        self.features['right_elbow_angle'].append(keypoints.angle('right_shoulder', 'right_elbow', 'right_wrist'))\n",
    "        self.features['left_knee_angle'].append(keypoints.angle('left_hip', 'left_knee', 'left_ankle'))\n",
    "        self.features['right_knee_angle'].append(keypoints.angle('right_hip', 'right_knee', 'right_ankle'))\n",
    "        self.features['left_shoulder_angle'].append(keypoints.angle('left_hip', 'left_shoulder', 'left_elbow'))\n",
    "        self.features['right_shoulder_angle'].append(keypoints.angle('right_hip', 'right_shoulder', 'right_elbow'))\n",
    "        self.features['left_hip_angle'].append(keypoints.angle('left_shoulder', 'left_hip', 'left_knee'))\n",
    "        self.features['right_hip_angle'].append(keypoints.angle('right_shoulder', 'right_hip', 'right_knee'))\n",
    "\n",
    "        self.features['center_of_mass_x_diff'].append(abs(self.diff('center_of_mass_x')))\n",
    "        self.features['center_of_mass_y_diff'].append(self.diff('center_of_mass_y'))\n",
    "\n",
    "        if smoothen:\n",
    "            for key in self.features.keys():\n",
    "                self.smooth(key)"
   ]
  },
  {
   "cell_type": "markdown",
   "metadata": {},
   "source": [
    "## 3. Reference"
   ]
  },
  {
   "cell_type": "code",
   "execution_count": 260,
   "metadata": {},
   "outputs": [],
   "source": [
    "WORKOUT = {\n",
    "    'lateral-burpee-over-dumbbell': {'reference': 'oyn3r70PzQ0_21', 'feature': 'shoulder_to_ankle_height'},\n",
    "    'dumbbell-snatch-left': {'reference': 'oyn3r70PzQ0_21', 'feature': 'left_wrist_to_left_ankle_height'},\n",
    "    'thruster': {'reference': 'MqJFbmvcKJE_21', 'feature': 'left_knee_angle'}\n",
    "}"
   ]
  },
  {
   "cell_type": "code",
   "execution_count": 261,
   "metadata": {},
   "outputs": [],
   "source": [
    "workout = 'thruster'\n",
    "feature_name = WORKOUT[workout]['feature']\n",
    "reference_name = WORKOUT[workout]['reference']"
   ]
  },
  {
   "cell_type": "code",
   "execution_count": 262,
   "metadata": {},
   "outputs": [],
   "source": [
    "reference_sequence = np.load(f'../data/sequence/{workout}/{reference_name}.npy')\n",
    "reference_feature = FeatureExtractor()\n",
    "for keypoints in reference_sequence:\n",
    "    keypoints = Keypoints(keypoints)\n",
    "    reference_feature.update(keypoints)"
   ]
  },
  {
   "cell_type": "code",
   "execution_count": 263,
   "metadata": {},
   "outputs": [
    {
     "data": {
      "text/plain": [
       "<Axes: >"
      ]
     },
     "execution_count": 263,
     "metadata": {},
     "output_type": "execute_result"
    },
    {
     "data": {
      "image/png": "[encoded data removed]",
      "text/plain": [
       "<Figure size 640x480 with 1 Axes>"
      ]
     },
     "metadata": {},
     "output_type": "display_data"
    }
   ],
   "source": [
    "sns.lineplot(reference_feature.get(feature_name))"
   ]
  },
  {
   "cell_type": "markdown",
   "metadata": {},
   "source": [
    "## 4. Inference"
   ]
  },
  {
   "cell_type": "code",
   "execution_count": 264,
   "metadata": {},
   "outputs": [],
   "source": [
    "def save_video(image_list, output_path, fps=30):\n",
    "    height, width = image_list[0].shape[:2]\n",
    "    size = (width, height)\n",
    "\n",
    "    fourcc = cv2.VideoWriter_fourcc(*'mp4v')\n",
    "    out = cv2.VideoWriter(output_path, fourcc, fps, size)\n",
    "\n",
    "    for image in image_list:\n",
    "        out.write(image.astype('uint8')) # bgr\n",
    "\n",
    "    out.release()"
   ]
  },
  {
   "cell_type": "code",
   "execution_count": 265,
   "metadata": {},
   "outputs": [
    {
     "data": {
      "text/plain": [
       "['fr0s3SLFuco_05', 'DbOrOIEPwkQ_08', '-lNd79gryx8_06', '8kLckijkqTE_03']"
      ]
     },
     "execution_count": 265,
     "metadata": {},
     "output_type": "execute_result"
    }
   ],
   "source": [
    "inference_names = [fp.split('/')[-1].rstrip('.npy') for fp in glob(f'../data/sequence/{workout}/*.npy') if reference_name not in fp]\n",
    "inference_names"
   ]
  },
  {
   "cell_type": "code",
   "execution_count": 273,
   "metadata": {},
   "outputs": [
    {
     "data": {
      "text/plain": [
       "'-lNd79gryx8_06'"
      ]
     },
     "execution_count": 273,
     "metadata": {},
     "output_type": "execute_result"
    }
   ],
   "source": [
    "inference_name = inference_names[2]\n",
    "inference_sequence = np.load(f'../data/sequence/{workout}/{inference_name}.npy')\n",
    "\n",
    "inference_name\n"
   ]
  },
  {
   "cell_type": "code",
   "execution_count": 274,
   "metadata": {},
   "outputs": [
    {
     "name": "stdout",
     "output_type": "stream",
     "text": [
      "6\n",
      "[40, 115, 196, 279, 363, 449]\n"
     ]
    }
   ],
   "source": [
    "counts, crosses = [], []\n",
    "direction = 0 # 1 for up, -1 for down\n",
    "\n",
    "inference_feature = FeatureExtractor()\n",
    "mean, std = reference_feature.stat(feature_name)\n",
    "for i, keypoints in enumerate(inference_sequence):\n",
    "    keypoints = Keypoints(keypoints)\n",
    "    inference_feature.update(keypoints, smoothen=True)\n",
    "\n",
    "    feat = inference_feature.get(feature_name)[-1]\n",
    "    zscore = (feat - mean) / std\n",
    "\n",
    "    if abs(zscore) < 1:\n",
    "        continue\n",
    "\n",
    "    if direction == 0:\n",
    "        direction = 1 if zscore < 0 else -1\n",
    "    elif (zscore * direction) > 0:\n",
    "        crosses.append(i)\n",
    "        direction *= -1\n",
    "        if len(crosses) % 2 != 0:\n",
    "            counts.append(i)\n",
    "\n",
    "print(len(counts))\n",
    "print(counts)"
   ]
  },
  {
   "cell_type": "code",
   "execution_count": 275,
   "metadata": {},
   "outputs": [],
   "source": [
    "video_path = f'../data/workout/{workout}/{inference_name}.mp4'\n",
    "\n",
    "cap = cv2.VideoCapture(video_path)\n",
    "fps = cap.get(cv2.CAP_PROP_FPS)\n",
    "num_frames = int(cap.get(cv2.CAP_PROP_FRAME_COUNT))\n",
    "\n",
    "frames = []\n",
    "count = 0\n",
    "for i in range(num_frames):\n",
    "    if i in counts:\n",
    "        count += 1\n",
    "\n",
    "    ret, frame = cap.read()\n",
    "    if not ret:\n",
    "        break\n",
    "\n",
    "    cv2.putText(frame, f'count: {count}', (100, 100), cv2.FONT_HERSHEY_SIMPLEX, 1, (0, 0, 255), 2, cv2.LINE_AA)\n",
    "    frames.append(frame)\n",
    "\n",
    "save_path = video_path.replace('/workout/', '/result/')\n",
    "os.makedirs(os.path.dirname(save_path), exist_ok=True)\n",
    "save_video(frames, save_path)"
   ]
  },
  {
   "cell_type": "code",
   "execution_count": null,
   "metadata": {},
   "outputs": [],
   "source": []
  },
  {
   "cell_type": "code",
   "execution_count": null,
   "metadata": {},
   "outputs": [],
   "source": []
  }
 ],
 "metadata": {
  "kernelspec": {
   "display_name": "crossfit-judge-DexIkYST",
   "language": "python",
   "name": "python3"
  },
  "language_info": {
   "codemirror_mode": {
    "name": "ipython",
    "version": 3
   },
   "file_extension": ".py",
   "mimetype": "text/x-python",
   "name": "python",
   "nbconvert_exporter": "python",
   "pygments_lexer": "ipython3",
   "version": "3.12.4"
  }
 },
 "nbformat": 4,
 "nbformat_minor": 2
}
